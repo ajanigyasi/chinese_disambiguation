{
 "cells": [
  {
   "cell_type": "markdown",
   "metadata": {},
   "source": [
    "# Similarity-based Character Word Embeddings for Chinese"
   ]
  },
  {
   "cell_type": "markdown",
   "metadata": {},
   "source": [
    "The Association for Computational Linguistics (ACL) is the premier international scientific and professional society for people working on computational problems involving human language, a field often referred to as either computational linguistics or natural language processing (NLP). In mid-summer 2016, San Diego was a chosen destination for the annual ACL conference where papers are submitted and evaluated. As a new San Diego native, I felt obligated to read one of the [accepted 2016 ACL papers](http://www.aclweb.org/anthology/N16-1119) gauging the effectiveness of exploited Chinese characters. Why this paper? (Answer: *My gf is Chinese*) Also, knowing that this is my first stab at learning the Chinese language, what could go wrong?(*Shrugs*) My goal is to demonstrate how characters and words associated to them can change the conversation, if not used correctly. \n",
    "\n",
    "The idea behind this [paper](http://www.aclweb.org/anthology/N16-1119) is to show how jointly learned character and word embeddings can capture semantic contribution of characters to words using a similarity-based method. In the Chinese language, characters and words have different part-of-speech labels (e.g. noun, verb, etc.) and yet express the same meaning. Further, characters carry more ambiguity weight than words. To address this issue, the paper proposes multi-prototype character embeddings where different meanings of characters will be represented by different embeddings. Below, are some experiments to show the results."
   ]
  },
  {
   "cell_type": "markdown",
   "metadata": {},
   "source": [
    "### Data description"
   ]
  },
  {
   "cell_type": "markdown",
   "metadata": {},
   "source": [
    "The paper investigates the characters \"道\" and \"光\" defined as \"scenery\" and \"speak/say\" using a test data set of highly ambiguous characters along with words that share the same meaning. In contrast, I will choose the character \"落\" defined by Google Translate as \"drop\" with it's associated words in this same data set. I printed the data set to show the disambiguation column which numerically labels the meaning importance of each word to the character \"落\"."
   ]
  },
  {
   "cell_type": "code",
   "execution_count": 1,
   "metadata": {
    "collapsed": true
   },
   "outputs": [],
   "source": [
    "import codecs\n",
    "import re\n",
    "import pandas as pd\n",
    "\n",
    "def loadTestData(File):\n",
    "    f = codecs.open(File, \"r\", \"utf-8\") \n",
    "    data = []\n",
    "    for line in f:\n",
    "        columns = re.split('\\s+', line)\n",
    "        data.append(columns)\n",
    "    return data\n",
    "\n",
    "df = pd.DataFrame(loadTestData('data/chardisamdata'))\n",
    "df.drop(df.columns[[2]], axis=1, inplace=True)\n",
    "df.columns = ['words', 'disamb_labels']"
   ]
  },
  {
   "cell_type": "markdown",
   "metadata": {},
   "source": [
    "### Loading character & word embedding models"
   ]
  },
  {
   "cell_type": "markdown",
   "metadata": {},
   "source": [
    "When training the embedding model, the result is two 100-dimensional vector representations of Chinese characters and words. To train the model, I used the [Wikipedia data dump](http://download.wikipedia.com/zhwiki/) as suggested in the paper. Behind the scenes, I cleaned it up by removing all numbers, special characters, stop-words, and non-Chinese letters plus word segementation using a [Java implementation of a Chinese Lexical Analysis System](https://github.com/NLPchina/ansj_seg) (fun fact: it processes 1 million words per second with 96% accuracy for this task). I also used all of the models' default hyper-parameters except when enabling the multi-prototype method  (SCWE+M); the model's source code can be viewed and cloned from [SCWE](https://github.com/JianXu123/SCWE.git). This model's signature method is actually a compositional and similarity word enhancement from previous research done on character disambiguation (See [CWE](https://github.com/Leonard-Xu/CWE.git))."
   ]
  },
  {
   "cell_type": "code",
   "execution_count": 2,
   "metadata": {},
   "outputs": [
    {
     "name": "stdout",
     "output_type": "stream",
     "text": [
      "Loading Model\n",
      "Done. 83609  characters loaded!\n"
     ]
    }
   ],
   "source": [
    "import codecs\n",
    "import numpy as np\n",
    "\n",
    "def loadCharModel(File):\n",
    "    print(\"Loading Model\")\n",
    "    f = codecs.open(File,'r', 'utf-8')\n",
    "    model = {}\n",
    "    for line in f:\n",
    "        splitLine = line.split()\n",
    "        word, pos = splitLine[0:2]\n",
    "        embedding = np.array([float(val) for val in splitLine[2:]])\n",
    "        model[(word, pos)] =  embedding\n",
    "    print(\"Done.\",len(model),\" characters loaded!\")\n",
    "    return model\n",
    "\n",
    "scweChars = loadCharModel('models/char.txt')"
   ]
  },
  {
   "cell_type": "markdown",
   "metadata": {},
   "source": [
    "Beautiful! The character model is loaded in with part-of-speech (pos) tags that help distinguish between the character meanings. I found a great guide to Chinese pos tags on [Huawei developers site](http://developer.huawei.com/ict/en/doc/en_sm_opg_c11/index.html/uap/opg/smartminer/opg/smartminer_opg_00704). Below, I printed the vector representation for character word and pos tag 'b', which is indicating an object feature or category per the pos tag guide."
   ]
  },
  {
   "cell_type": "code",
   "execution_count": 6,
   "metadata": {},
   "outputs": [
    {
     "name": "stdout",
     "output_type": "stream",
     "text": [
      "[  9.25000000e-04   2.10900000e-03   4.91900000e-03  -1.53600000e-03\n",
      "  -3.13700000e-03  -4.70000000e-03  -1.70000000e-05   3.88700000e-03\n",
      "   2.65500000e-03  -2.47500000e-03   4.66600000e-03   2.79600000e-03\n",
      "   3.45600000e-03   8.14000000e-04   3.74000000e-04  -1.52700000e-03\n",
      "  -3.07600000e-03  -3.01000000e-04   1.01500000e-03  -3.30100000e-03\n",
      "   3.21400000e-03   1.21100000e-03   2.99300000e-03  -4.24500000e-03\n",
      "   4.98200000e-03   4.88100000e-03  -4.78500000e-03  -3.57800000e-03\n",
      "  -2.61500000e-03   2.74000000e-03  -9.12000000e-04   1.98100000e-03\n",
      "  -1.92100000e-03  -6.79000000e-04  -1.48300000e-03  -1.78500000e-03\n",
      "  -2.78000000e-03   1.65300000e-03  -9.10000000e-05   3.40300000e-03\n",
      "  -2.53500000e-03  -7.32000000e-04   2.17100000e-03  -1.67200000e-03\n",
      "   3.96900000e-03   4.19800000e-03  -3.29300000e-03  -3.72900000e-03\n",
      "   4.39000000e-03   9.73000000e-04  -2.57400000e-03   3.01200000e-03\n",
      "  -1.11800000e-03  -3.37400000e-03   7.32000000e-04  -3.16600000e-03\n",
      "   1.04000000e-04   6.86000000e-04  -4.46700000e-03  -1.48400000e-03\n",
      "   3.21000000e-03  -4.81300000e-03   3.23300000e-03   1.34200000e-03\n",
      "  -4.14300000e-03   4.65700000e-03  -2.25900000e-03   1.09100000e-03\n",
      "  -1.79900000e-03  -3.87000000e-03  -4.53900000e-03  -3.95500000e-03\n",
      "   2.89900000e-03  -8.64000000e-04  -4.69900000e-03  -3.01400000e-03\n",
      "  -4.89300000e-03  -4.29300000e-03  -1.33500000e-03  -2.80600000e-03\n",
      "   2.48000000e-03   3.73000000e-04  -5.38000000e-04   2.45100000e-03\n",
      "  -4.82400000e-03   1.66000000e-04   4.09600000e-03   1.03800000e-03\n",
      "  -4.14900000e-03   4.61700000e-03   1.47500000e-03   3.73600000e-03\n",
      "  -3.40000000e-04  -4.24200000e-03   3.00400000e-03   3.82700000e-03\n",
      "   4.26000000e-03  -1.88100000e-03   2.58900000e-03  -2.90800000e-03]\n"
     ]
    }
   ],
   "source": [
    "print(scweChars[u'落', 'b'])"
   ]
  },
  {
   "cell_type": "code",
   "execution_count": 3,
   "metadata": {},
   "outputs": [
    {
     "name": "stdout",
     "output_type": "stream",
     "text": [
      "Loading Model\n",
      "Done. 236575  words loaded!\n"
     ]
    }
   ],
   "source": [
    "def loadWordModel(File):\n",
    "    print(\"Loading Model\")\n",
    "    f = codecs.open(File,'r', 'utf-8')\n",
    "    model = {}\n",
    "    for line in f:\n",
    "        splitLine = line.split()\n",
    "        word = splitLine[0]\n",
    "        embedding = np.array([float(val) for val in splitLine[1:]])\n",
    "        model[word] =  embedding\n",
    "    print(\"Done.\",len(model),\" words loaded!\")\n",
    "    return model\n",
    "\n",
    "scweWords = loadWordModel('models/word.txt')"
   ]
  },
  {
   "cell_type": "markdown",
   "metadata": {},
   "source": [
    "### Visualizing embeddings"
   ]
  },
  {
   "cell_type": "markdown",
   "metadata": {},
   "source": [
    "Now that the two models are loaded in, I will have to do some house keeping and prepare for analysis. First, in the character model I will track down all the pos tags conncected to the character \"落\" and store it in a list. Next, I will use list comprehension to extract the embeddings from the newly created list. The same will occur for the words in the test data set. Finally, to visualize the embeddings, I will have to extend the list of embeddings and the list of character and words using the extend function. I printed the words to display what that looks like."
   ]
  },
  {
   "cell_type": "code",
   "execution_count": 4,
   "metadata": {},
   "outputs": [
    {
     "name": "stdout",
     "output_type": "stream",
     "text": [
      "[('落', 'm'), ('落', 's'), ('落', 'b'), '部落', '衰落', '落地', '没落', '落石', '集落']\n"
     ]
    }
   ],
   "source": [
    "addW = pd.DataFrame({'words':[(u'落', i) for _, i in scweChars][4:7]}) # characters with pos labels\n",
    "addDis = pd.DataFrame({'disamb_labels': [2, 3, 1]}) # manually label characters to disambiguate and to match words in test set\n",
    "\n",
    "add = addW.join(addDis)\n",
    "tester = df.loc[df['words'].isin([u'落石', u'落地', u'没落', u'衰落', u'集落', u'部落'])] # words to plot\n",
    "\n",
    "\n",
    "char_list = add[\"words\"].tolist() # character list\n",
    "word_list = tester[\"words\"].tolist() # word list \n",
    "\n",
    "testEmb_char = [scweChars[i] for i in char_list] # character embeddings\n",
    "testEmb_word = [scweWords[i] for i in word_list] # word embeddings\n",
    "\n",
    "\n",
    "testEmb_char.extend(testEmb_word) # extended character list with word list\n",
    "char_list.extend(word_list) # extended character embeddings with word embeddings\n",
    "print(char_list)\n",
    "\n",
    "test = pd.concat([add, tester], ignore_index=True)\n",
    "test_labels = pd.to_numeric(test[\"disamb_labels\"]).tolist() # label list "
   ]
  },
  {
   "cell_type": "markdown",
   "metadata": {},
   "source": [
    "Since I am dealing with high dimensionality in the now extended embedding model (character & word), I will use principal component analysis (PCA) to visualize the closeness each word, from the test data set, is to the multi-contexted character \"落\" and also project the embeddings down from 100 to 2 dimensions."
   ]
  },
  {
   "cell_type": "code",
   "execution_count": 5,
   "metadata": {
    "collapsed": true
   },
   "outputs": [],
   "source": [
    "%matplotlib inline\n",
    "import matplotlib\n",
    "import matplotlib.pyplot as plt\n",
    "import matplotlib.patches as mpatches"
   ]
  },
  {
   "cell_type": "code",
   "execution_count": 12,
   "metadata": {},
   "outputs": [
    {
     "data": {
      "image/png": "[encoded data removed]",
      "text/plain": [
       "<matplotlib.figure.Figure at 0x7f226c33d320>"
      ]
     },
     "metadata": {},
     "output_type": "display_data"
    }
   ],
   "source": [
    "from sklearn.decomposition import PCA\n",
    "from matplotlib.font_manager import FontProperties\n",
    "\n",
    "fontP = FontProperties(fname = '../tmp/anaconda3/lib/python3.6/site-packages/matplotlib/mpl-data/fonts/ttf/simsun.ttc')\n",
    "fontP.set_family('SimHei')\n",
    "fontP.set_size(20)\n",
    "\n",
    "def plot_PCA(test_data, test_labels, words):\n",
    "    pca = PCA(2)\n",
    "    vector_map = pca.fit_transform(test_data)\n",
    "    colors = ['red', 'blue', 'green']\n",
    "    plt.scatter(vector_map[:, 0], vector_map[:, 1], c=test_labels, \n",
    "                           cmap=matplotlib.colors.ListedColormap(colors))\n",
    "    for i, m in enumerate(vector_map):\n",
    "        plt.text(m[0], m[1], words[i], ha='center', va='center', fontproperties = fontP,\n",
    "                 bbox=dict(facecolor='white', alpha=0.5,lw=0))\n",
    "        red_patch = mpatches.Patch(color='red', label='(landing, rockfall)')\n",
    "        blue_patch = mpatches.Patch(color='blue', label='(decline, decadence)')\n",
    "        green_patch = mpatches.Patch(color='green', label='(tribe, settlement)')\n",
    "        plt.legend(handles=[red_patch, blue_patch, green_patch], prop={'size': 12})\n",
    "\n",
    "f, ax = plt.subplots(1, figsize = (16, 7))\n",
    "plot_PCA(testEmb_char, test_labels, char_list)\n",
    "plt.show()"
   ]
  },
  {
   "cell_type": "markdown",
   "metadata": {},
   "source": [
    "As shown above, I took 3 different meanings of the Chinese character \"落\" and 2 of its top-related words to visualize the character and word embedding models. The legend's order arrangement denotes the character's meaning importance, top to bottom. It also provides the meaning of the plotted words as an indicator of the character's context.\n",
    "\n",
    "Again, let's observe the character color-coded in red ('落', 'b') plus the words \"落地\" and \"落石\" in the plot. All three of their meanings are related to an object feature such as \"fall\", which is why they're gathered together in the emedding space. "
   ]
  },
  {
   "cell_type": "markdown",
   "metadata": {},
   "source": [
    "### Evaluating accuracy on disambiguating characters"
   ]
  },
  {
   "cell_type": "markdown",
   "metadata": {},
   "source": [
    "This paper used an [online Xinhua Dictionary](http://xh.5156edu.com/) as a standard to disambiguate words that contained highly ambiguous characters. Each word, in the test data set, was labeled a number denoting the meaning importance of the target character \"落\". Below, I will use the K-Nearest Neighbors (KNN) model to classify the meaning lables and evaluate its accuracy score."
   ]
  },
  {
   "cell_type": "code",
   "execution_count": 13,
   "metadata": {
    "collapsed": true
   },
   "outputs": [],
   "source": [
    "addW = pd.DataFrame({'words':[(u'落', i) for _, i in scweChars][4:7]}) # characters & pos tags \n",
    "addDis = pd.DataFrame({'disamb_labels': [2, 3, 1]}) # manually label character importance\n",
    "add = addW.join(addDis)\n",
    "\n",
    "test_words = df.iloc[290:328,:]\n",
    "test = pd.concat([add, test_words], ignore_index=True)\n",
    "\n",
    "char_list = add[\"words\"].tolist() # character list\n",
    "word_list = test_words[\"words\"].tolist() # word list\n",
    "\n",
    "testEmb_char = [scweChars[i] for i in char_list] # character embedding \n",
    "testEmb_word = [scweWords[i] for i in word_list] # word embedding\n",
    "\n",
    "testEmb_char.extend(testEmb_word)\n",
    "\n",
    "test_labels = pd.to_numeric(test[\"disamb_labels\"]).tolist() # label list "
   ]
  },
  {
   "cell_type": "markdown",
   "metadata": {},
   "source": [
    "In the above code, I manually labeled the the character importance based on the pos tag inference in the character embedding model, labeled words in the test data set, and the related words defined in the [online dictionary](http://xh.5156edu.com/) (See query: 落).\n",
    "\n",
    "The classifier's accuracy score is high at 88% and seemingly on par with the results in the paper. Although, I would argue higher accuracy results if the word importance labeling ranged to a fourth (character embedding modeled an additional pos tag 'e' coded as an exclamation)  in the test data set."
   ]
  },
  {
   "cell_type": "code",
   "execution_count": 22,
   "metadata": {},
   "outputs": [
    {
     "name": "stdout",
     "output_type": "stream",
     "text": [
      "Testing Score: 0.875\n"
     ]
    }
   ],
   "source": [
    "from sklearn import neighbors\n",
    "from sklearn.model_selection import train_test_split\n",
    "\n",
    "X_train, X_test, y_train, y_test = train_test_split(testEmb_char, test_labels , test_size=0.19, random_state=40)\n",
    "\n",
    "clf = neighbors.KNeighborsClassifier(4, algorithm = 'auto', n_jobs=-1) # classifer\n",
    "clf.fit(X_train, y_train)\n",
    "\n",
    "print('Testing Score: %.3f' % (clf.score(X_test, y_test)))"
   ]
  },
  {
   "cell_type": "markdown",
   "metadata": {},
   "source": [
    "I will also show how close each word embedding is to a given character embedding using KNN with a consine distance metric. This approach adds as another reference to the meaning contribution in the embedding space. I used all the words in the test data set with the character '落'."
   ]
  },
  {
   "cell_type": "code",
   "execution_count": 18,
   "metadata": {},
   "outputs": [
    {
     "name": "stdout",
     "output_type": "stream",
     "text": [
      "['部落', '坐落', '降落', '击落', '衰落', '村落', '聚落', '脱落', '落地', '落叶', '群落', '坠落', '角落', '堕落', '日落', '没落', '下落', '掉落', '院落', '跌落', '流落', '涨落', '沦落', '落魄', '落日', '败落', '落石', '破落', '飘落', '落尘', '集落', '零落', '凋落', '推落', '落花', '滴落', '落木', '座落', ('落', 'b')]\n"
     ]
    }
   ],
   "source": [
    "charVec_b = scweChars[u'落', 'b'] # run the character & pos list through the model for embeddings\n",
    "words = list(test_words.words) # list the words in the test data set\n",
    "wordVec = [scweWords[i] for i in words] # run words through word model for embeddings\n",
    "\n",
    "wordVec.append(charVec_b) # append the character vector list to the word vector list \n",
    "words.extend([(u'落', 'b')]) # extend the character & pos list to the word list \n",
    "\n",
    "print(words)\n",
    "\n",
    "word_id = {w:i for i, w in enumerate(words)}\n",
    "id_word = dict(enumerate(words))"
   ]
  },
  {
   "cell_type": "code",
   "execution_count": 19,
   "metadata": {
    "collapsed": true
   },
   "outputs": [],
   "source": [
    "from operator import itemgetter\n",
    "import re\n",
    "\n",
    "k=7\n",
    "\n",
    "def knn(word, embeddings, word_id, id_word):\n",
    "    word_index = word_id[word]\n",
    "    e = embeddings[word_index]\n",
    "    distances = (((embeddings - e) ** 2).sum(axis=1) ** 0.5) # cosine distance metric\n",
    "    sorted_distances = sorted(enumerate(distances), key=itemgetter(1))\n",
    "    indices, distances = zip(*sorted_distances[:k])\n",
    "    neighbors = [id_word[idx] for idx in indices]\n",
    "    for i, (word, distance) in enumerate(zip(neighbors, distances)):\n",
    "        print(i, '\\t', word, '\\t', distance)"
   ]
  },
  {
   "cell_type": "code",
   "execution_count": 21,
   "metadata": {},
   "outputs": [
    {
     "name": "stdout",
     "output_type": "stream",
     "text": [
      "0 \t ('落', 'b') \t 0.0\n",
      "1 \t 落石 \t 0.0320921730022\n",
      "2 \t 落木 \t 0.0335187861952\n",
      "3 \t 落叶 \t 0.0339885161488\n",
      "4 \t 落魄 \t 0.0344719735002\n",
      "5 \t 落日 \t 0.0350166252086\n",
      "6 \t 落尘 \t 0.0350887300141\n"
     ]
    }
   ],
   "source": [
    "knn((u'落', 'b'), wordVec, word_id, id_word) # ranked 1st in meaning importance"
   ]
  },
  {
   "cell_type": "markdown",
   "metadata": {},
   "source": [
    "### Use cases for word embeddings "
   ]
  },
  {
   "cell_type": "markdown",
   "metadata": {},
   "source": [
    "There are a few applications word embeddings would serve a purpose. One would be in the social media space, where a retailer could scrape posts from a site like Twitter to determine how popular a particular brand is for brand awareness analysis. Or if you want to improve a medical search engine to query closely associated words in documents from your database for more in-depth search results.\n",
    "\n",
    "The NLP world is growing really fast and has fascinating work. This is just one of many [papers accepted](http://naacl.org/naacl-hlt-2016/accepted_papers.html) in 2016's ACL where students and researchers showcase an improvement to a problem already addressed in previous research. Like others, I am a fan of research efforts into how information is distributed in a more education-friendly and resourceful way.\n",
    "\n",
    "This might be my first stab at NLP and Chinese (I had to come clean), but it won't be my last!"
   ]
  }
 ],
 "metadata": {
  "kernelspec": {
   "display_name": "Python 3",
   "language": "python",
   "name": "python3"
  },
  "language_info": {
   "codemirror_mode": {
    "name": "ipython",
    "version": 3
   },
   "file_extension": ".py",
   "mimetype": "text/x-python",
   "name": "python",
   "nbconvert_exporter": "python",
   "pygments_lexer": "ipython3",
   "version": "3.6.3"
  }
 },
 "nbformat": 4,
 "nbformat_minor": 2
}
